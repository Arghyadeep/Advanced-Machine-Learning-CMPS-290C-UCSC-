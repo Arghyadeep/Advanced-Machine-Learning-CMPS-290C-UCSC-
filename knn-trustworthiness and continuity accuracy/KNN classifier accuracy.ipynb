{
 "cells": [
  {
   "cell_type": "code",
   "execution_count": 1,
   "metadata": {},
   "outputs": [
    {
     "name": "stderr",
     "output_type": "stream",
     "text": [
      "C:\\Users\\Arghyadeep\\Anaconda3\\lib\\site-packages\\sklearn\\cross_validation.py:44: DeprecationWarning: This module was deprecated in version 0.18 in favor of the model_selection module into which all the refactored classes and functions are moved. Also note that the interface of the new CV iterators are different from that of this module. This module will be removed in 0.20.\n",
      "  \"This module will be removed in 0.20.\", DeprecationWarning)\n"
     ]
    }
   ],
   "source": [
    "from sklearn.externals import joblib\n",
    "from sklearn.neighbors import KNeighborsClassifier\n",
    "neigh = KNeighborsClassifier(n_neighbors=3)\n",
    "import numpy as np \n",
    "from sklearn import neighbors, cross_validation"
   ]
  },
  {
   "cell_type": "code",
   "execution_count": 14,
   "metadata": {},
   "outputs": [],
   "source": [
    "#tsne_x = joblib.load(\"xtsne.pkl\")\n",
    "#tsne_y = joblib.load(\"ytsne.pkl\")\n",
    "pca_new = joblib.load(\"PCA.pkl\")\n",
    "pca_old = joblib.load(\"tsnedata.pkl\")\n",
    "pca_label = joblib.load(\"tsnelabel.pkl\")\n",
    "#tsne_x = tsne_x.values\n",
    "#tsne_y = tsne_y.values\n",
    "#tsne = np.concatenate((np.reshape(tsne_x,(1000,1)),np.reshape(tsne_y,(1000,1))), axis = 1)\n",
    "#print(tsne.shape)\n",
    "#print(tsne_label.shape)"
   ]
  },
  {
   "cell_type": "code",
   "execution_count": 15,
   "metadata": {},
   "outputs": [],
   "source": [
    "fit1 = neigh.fit(pca_new,pca_label)\n",
    "#print(neigh.score(tsne,tsne_label))\n",
    "#print(neigh.score(tsne_data,tsne_label))"
   ]
  },
  {
   "cell_type": "code",
   "execution_count": 16,
   "metadata": {},
   "outputs": [],
   "source": [
    "fit2 = neigh.fit(pca_old,pca_label)\n",
    "#print(neigh.score(tsne_data,tsne_label))"
   ]
  },
  {
   "cell_type": "code",
   "execution_count": 17,
   "metadata": {},
   "outputs": [
    {
     "name": "stdout",
     "output_type": "stream",
     "text": [
      "[ 0.10089021  0.08708709  0.12121212] Accuracy for new data[dimension 1000*2] with k =  1\n",
      "[ 0.75667656  0.76576577  0.73636364] Accuracy for old data[dimension 1000*784] with k =  1\n",
      "[ 0.12166172  0.12012012  0.1       ] Accuracy for new data[dimension 1000*2] with k =  2\n",
      "[ 0.72700297  0.70570571  0.73636364] Accuracy for old data[dimension 1000*784] with k =  2\n",
      "[ 0.09495549  0.11711712  0.1030303 ] Accuracy for new data[dimension 1000*2] with k =  3\n",
      "[ 0.72700297  0.73573574  0.72727273] Accuracy for old data[dimension 1000*784] with k =  3\n",
      "[ 0.09792285  0.1021021   0.0969697 ] Accuracy for new data[dimension 1000*2] with k =  4\n",
      "[ 0.74480712  0.72972973  0.74848485] Accuracy for old data[dimension 1000*784] with k =  4\n",
      "[ 0.09198813  0.1021021   0.1       ] Accuracy for new data[dimension 1000*2] with k =  5\n",
      "[ 0.72997033  0.72372372  0.73030303] Accuracy for old data[dimension 1000*784] with k =  5\n",
      "[ 0.09495549  0.1021021   0.10606061] Accuracy for new data[dimension 1000*2] with k =  6\n",
      "[ 0.72997033  0.74474474  0.71515152] Accuracy for old data[dimension 1000*784] with k =  6\n",
      "[ 0.09495549  0.09309309  0.1       ] Accuracy for new data[dimension 1000*2] with k =  7\n",
      "[ 0.72106825  0.72972973  0.73939394] Accuracy for old data[dimension 1000*784] with k =  7\n",
      "[ 0.10682493  0.09309309  0.1030303 ] Accuracy for new data[dimension 1000*2] with k =  8\n",
      "[ 0.72403561  0.71171171  0.73333333] Accuracy for old data[dimension 1000*784] with k =  8\n",
      "[ 0.10385757  0.08408408  0.09393939] Accuracy for new data[dimension 1000*2] with k =  9\n",
      "[ 0.72700297  0.72972973  0.72424242] Accuracy for old data[dimension 1000*784] with k =  9\n"
     ]
    }
   ],
   "source": [
    "for k in range(1, 10):\n",
    "    neigh = neighbors.KNeighborsClassifier(n_neighbors=k)\n",
    "    #neigh.fit(tsne, tsne_label) \n",
    "    a = cross_validation.cross_val_score(neigh, pca_new, y=pca_label)\n",
    "    b = cross_validation.cross_val_score(neigh, pca_old, y=pca_label)\n",
    "    print(a,\"Accuracy for new data[dimension 1000*2] with k = \",k)\n",
    "    print(b,\"Accuracy for old data[dimension 1000*784] with k = \",k)"
   ]
  },
  {
   "cell_type": "code",
   "execution_count": null,
   "metadata": {},
   "outputs": [],
   "source": []
  }
 ],
 "metadata": {
  "kernelspec": {
   "display_name": "Python 3",
   "language": "python",
   "name": "python3"
  },
  "language_info": {
   "codemirror_mode": {
    "name": "ipython",
    "version": 3
   },
   "file_extension": ".py",
   "mimetype": "text/x-python",
   "name": "python",
   "nbconvert_exporter": "python",
   "pygments_lexer": "ipython3",
   "version": "3.6.1"
  }
 },
 "nbformat": 4,
 "nbformat_minor": 2
}
